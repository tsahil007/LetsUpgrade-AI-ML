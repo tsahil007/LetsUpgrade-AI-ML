{
 "cells": [
  {
   "cell_type": "markdown",
   "metadata": {},
   "source": [
    "# 1. Create a 3x3x3 array with random values "
   ]
  },
  {
   "cell_type": "code",
   "execution_count": 1,
   "metadata": {},
   "outputs": [],
   "source": [
    "import numpy as np"
   ]
  },
  {
   "cell_type": "code",
   "execution_count": 6,
   "metadata": {},
   "outputs": [
    {
     "name": "stdout",
     "output_type": "stream",
     "text": [
      "3x3x3 Array:\n",
      "\n",
      "[[[0.9291282  0.67106174 0.32546316]\n",
      "  [0.95123442 0.36373359 0.35225532]\n",
      "  [0.04740841 0.23466665 0.71389072]]\n",
      "\n",
      " [[0.32458835 0.5136954  0.32650718]\n",
      "  [0.3556016  0.96709065 0.43078438]\n",
      "  [0.69925679 0.24943596 0.35092015]]\n",
      "\n",
      " [[0.87622213 0.99078766 0.82696437]\n",
      "  [0.43291104 0.61181405 0.29115736]\n",
      "  [0.68731108 0.9359512  0.86152412]]]\n"
     ]
    }
   ],
   "source": [
    "x = np.random.random((3,3,3))\n",
    "print('3x3x3 Array:\\n')\n",
    "print(x)"
   ]
  },
  {
   "cell_type": "markdown",
   "metadata": {},
   "source": [
    "# 2.Create a 5x5 matrix with values 1,2,3,4 just below the diagonal"
   ]
  },
  {
   "cell_type": "code",
   "execution_count": 7,
   "metadata": {},
   "outputs": [
    {
     "name": "stdout",
     "output_type": "stream",
     "text": [
      "Matrix with 1,2,3,4 just below Diagonal:\n",
      "\n",
      " [[0 0 0 0 0]\n",
      " [1 0 0 0 0]\n",
      " [0 2 0 0 0]\n",
      " [0 0 3 0 0]\n",
      " [0 0 0 4 0]]\n"
     ]
    }
   ],
   "source": [
    "matrix = np.zeros((5,5))\n",
    "matrix = np.diag(1+np.arange(4),k = -1)\n",
    "print('Matrix with 1,2,3,4 just below Diagonal:\\n\\n', matrix)"
   ]
  },
  {
   "cell_type": "markdown",
   "metadata": {},
   "source": [
    "# 3.Create a 8x8 matrix and fill it with a checkerboard pattern"
   ]
  },
  {
   "cell_type": "code",
   "execution_count": 9,
   "metadata": {},
   "outputs": [
    {
     "name": "stdout",
     "output_type": "stream",
     "text": [
      "Check Borad Pattern:\n",
      "\n",
      "[[0 1 0 1 0 1 0 1]\n",
      " [1 0 1 0 1 0 1 0]\n",
      " [0 1 0 1 0 1 0 1]\n",
      " [1 0 1 0 1 0 1 0]\n",
      " [0 1 0 1 0 1 0 1]\n",
      " [1 0 1 0 1 0 1 0]\n",
      " [0 1 0 1 0 1 0 1]\n",
      " [1 0 1 0 1 0 1 0]]\n"
     ]
    }
   ],
   "source": [
    "x = np.zeros((8,8), dtype=int)\n",
    "x[1::2,::2] = 1\n",
    "x[::2,1::2] = 1\n",
    "print('Check Borad Pattern:\\n')\n",
    "print(x)"
   ]
  },
  {
   "cell_type": "markdown",
   "metadata": {},
   "source": [
    "# 4. Normalize a 5x5 random matrix"
   ]
  },
  {
   "cell_type": "code",
   "execution_count": 11,
   "metadata": {},
   "outputs": [
    {
     "name": "stdout",
     "output_type": "stream",
     "text": [
      "Original Array:\n",
      "\n",
      "[[-0.23632073 -0.11583989 -0.02703334  0.31744144 -0.94110304]\n",
      " [-0.1904471   0.46014783  0.52270332  1.28876174 -1.35850412]\n",
      " [ 0.18545113  0.83419247  1.20427897  0.08484585  0.93623192]\n",
      " [ 0.17490511  0.17509915  1.89808928 -1.07150462  0.26527706]\n",
      " [-0.25509644 -1.35899265 -0.75164562  1.44897517  0.18664767]]\n",
      "\n",
      "After normalization:\n",
      "\n",
      "[[3.44686425e-01 3.81676848e-01 4.08942526e-01 5.14704305e-01\n",
      "  1.28301844e-01]\n",
      " [3.58770696e-01 5.58518490e-01 5.77724482e-01 8.12922257e-01\n",
      "  1.49992572e-04]\n",
      " [4.74180208e-01 6.73358906e-01 7.86984079e-01 4.43292044e-01\n",
      "  7.04687394e-01]\n",
      " [4.70942334e-01 4.71001907e-01 1.00000000e+00 8.82655207e-02\n",
      "  4.98688627e-01]\n",
      " [3.38921845e-01 0.00000000e+00 1.86469681e-01 8.62111511e-01\n",
      "  4.74547571e-01]]\n"
     ]
    }
   ],
   "source": [
    "\n",
    "x= np.random.randn(5,5)\n",
    "print(\"Original Array:\\n\")\n",
    "print(x)\n",
    "\n",
    "xmax, xmin = x.max(), x.min()\n",
    "x = (x - xmin)/(xmax - xmin)\n",
    "\n",
    "print(\"\\nAfter normalization:\\n\")\n",
    "print(x)"
   ]
  },
  {
   "cell_type": "markdown",
   "metadata": {},
   "source": [
    "# 5.  How to find common values between two arrays?"
   ]
  },
  {
   "cell_type": "code",
   "execution_count": 15,
   "metadata": {},
   "outputs": [
    {
     "name": "stdout",
     "output_type": "stream",
     "text": [
      "Array1:  [ 0 10 20 40 60]\n",
      "Array2:  [10, 30, 40]\n",
      "Common values between two arrays: [10 40]\n"
     ]
    }
   ],
   "source": [
    "array1 = np.array([0, 10, 20, 40, 60])\n",
    "array2 = [10, 30, 40]\n",
    "print(\"Array1: \", array1)\n",
    "print(\"Array2: \", array2)\n",
    "print(\"Common values between two arrays:\", np.intersect1d(array1, array2))"
   ]
  },
  {
   "cell_type": "markdown",
   "metadata": {},
   "source": [
    "# 6.How to get the dates of yesterday, today and tomorrow?"
   ]
  },
  {
   "cell_type": "code",
   "execution_count": 16,
   "metadata": {},
   "outputs": [
    {
     "name": "stdout",
     "output_type": "stream",
     "text": [
      "Yesterday:  2020-07-26\n",
      "Today:  2020-07-27\n",
      "Tomorrow:  2020-07-28\n"
     ]
    }
   ],
   "source": [
    "import datetime as dt\n",
    "\n",
    "today = dt.date.today()\n",
    "yesterday = today - dt.timedelta(days = 1)\n",
    "tomorrow = today + dt.timedelta(days = 1) \n",
    "\n",
    "print('Yesterday: ',yesterday)\n",
    "print('Today: ', today)\n",
    "print('Tomorrow: ', tomorrow)"
   ]
  },
  {
   "cell_type": "markdown",
   "metadata": {},
   "source": [
    "# 7. Consider two random array A and B, check if they are equal"
   ]
  },
  {
   "cell_type": "code",
   "execution_count": 17,
   "metadata": {},
   "outputs": [
    {
     "name": "stdout",
     "output_type": "stream",
     "text": [
      "Array1:\n",
      " [[ 1 23  5]\n",
      " [ 6  9 40]]\n",
      "Array2:\n",
      " [[ 1 23  5]\n",
      " [ 6  9 40]]\n",
      "\n",
      "Result is True if the Arrays are Equal \n",
      "Result is False if the Arrays are Not Equal \n"
     ]
    },
    {
     "data": {
      "text/plain": [
       "True"
      ]
     },
     "execution_count": 17,
     "metadata": {},
     "output_type": "execute_result"
    }
   ],
   "source": [
    "a = np.array([[1,23,5],[6,9,40]])\n",
    "b =  np.array([[1,23,5],[6,9,40]])\n",
    "print('Array1:\\n', a)\n",
    "print('Array2:\\n', b)\n",
    "print('\\nResult is True if the Arrays are Equal \\nResult is False if the Arrays are Not Equal ')\n",
    "np.array_equal(a,b)"
   ]
  },
  {
   "cell_type": "markdown",
   "metadata": {},
   "source": [
    "# 8.Create random vector of size 10 and replace the maximum value by 0 "
   ]
  },
  {
   "cell_type": "code",
   "execution_count": 18,
   "metadata": {},
   "outputs": [
    {
     "name": "stdout",
     "output_type": "stream",
     "text": [
      "Vector:  [  1  45 867  90  48  94 100 166 867 110]\n",
      "Length of Vector:  10\n",
      "Maximum value: 867\n",
      "Replacing 867 by 0: [  1  45   0  90  48  94 100 166   0 110]\n"
     ]
    }
   ],
   "source": [
    "vector = np.array([1,45,867,90,48,94,100,166,867,110])\n",
    "print('Vector: ', vector)\n",
    "print('Length of Vector: ', len(vector))\n",
    "\n",
    "vector_max = vector.max() \n",
    "print('Maximum value:', vector_max)\n",
    "index= np.where(vector == vector_max)\n",
    "vector[index] = 0\n",
    "\n",
    "print('Replacing {} by 0: {}'.format(vector_max, vector))\n"
   ]
  },
  {
   "cell_type": "markdown",
   "metadata": {},
   "source": [
    "# 9. How to print all the values of an array?"
   ]
  },
  {
   "cell_type": "code",
   "execution_count": 19,
   "metadata": {},
   "outputs": [
    {
     "name": "stdout",
     "output_type": "stream",
     "text": [
      "For 1-D Array:\n",
      "The element at index 0 is: 12\n",
      "The element at index 1 is: 34\n",
      "The element at index 2 is: 67\n",
      "The element at index 3 is: 89\n",
      "\n",
      "For 2-D Array:\n",
      "The element at index 0 is: [13 57 45]\n",
      "The element at index 1 is: [34 76 88]\n",
      "The element at index 2 is: [92 21 19]\n",
      "The element at index 3 is: [98 67  0]\n"
     ]
    }
   ],
   "source": [
    " #1-D Array :\n",
    "print('For 1-D Array:')\n",
    "x = np.array([12, 34, 67, 89])\n",
    "for i in range(len(x)):\n",
    "    print(f\"The element at index {i} is: {x[i]}\")\n",
    "\n",
    "# 2-D Array: \n",
    "print('\\nFor 2-D Array:')\n",
    "y = np.array([[13,57,45],[34,76,88],[92,21,19],[98,67,0]])\n",
    "for i in range(len(y)):\n",
    "    print(f\"The element at index {i} is: {y[i]}\")"
   ]
  },
  {
   "cell_type": "markdown",
   "metadata": {},
   "source": [
    "# 10.Subtract the mean of each row of a matrix"
   ]
  },
  {
   "cell_type": "code",
   "execution_count": 20,
   "metadata": {},
   "outputs": [
    {
     "name": "stdout",
     "output_type": "stream",
     "text": [
      "Initial Array:\n",
      " [[  1 100   0   0]\n",
      " [  2 110   0   0]\n",
      " [  3 120   0   0]]\n",
      "Mean of Each row:  [25.25 28.   30.75]\n",
      "\n",
      "Resultant Matrix After Subtracting Mean:\n",
      " [[-24.25  74.75 -25.25 -25.25]\n",
      " [-26.    82.   -28.   -28.  ]\n",
      " [-27.75  89.25 -30.75 -30.75]]\n"
     ]
    }
   ],
   "source": [
    "arr = np.array([[1, 100, 0, 0], [2, 110, 0, 0], [3, 120, 0, 0]])\n",
    "print('Initial Array:\\n', arr)\n",
    "print('Mean of Each row: ',arr.mean(axis=1))\n",
    "mean = arr - arr.mean(axis=1, keepdims=True) \n",
    "print('\\nResultant Matrix After Subtracting Mean:\\n',mean)"
   ]
  },
  {
   "cell_type": "markdown",
   "metadata": {},
   "source": [
    "# 11.Consider a given vector, how to add 1 to each element indexed by a second vector (be careful with repeated indices)? "
   ]
  },
  {
   "cell_type": "code",
   "execution_count": 21,
   "metadata": {},
   "outputs": [
    {
     "name": "stdout",
     "output_type": "stream",
     "text": [
      "Initial Vector:\n",
      " [1. 1. 1. 1. 1. 1. 1. 1. 1. 1.]\n",
      "Random Values:\n",
      " [5 8 7 1 0 1 2 5 3 8 6 0 8 7 3 5 9 8 9 1]\n",
      "Resultant Vector:\n",
      " [3. 4. 2. 3. 1. 4. 2. 3. 5. 3.]\n"
     ]
    }
   ],
   "source": [
    "\n",
    "Z = np.ones(10)\n",
    "print(\"Initial Vector:\\n\",Z)\n",
    "I = np.random.randint(0, len(Z),20)\n",
    "print(\"Random Values:\\n\",I)\n",
    "Z += np.bincount(I, minlength=len(Z))\n",
    "print(\"Resultant Vector:\\n\",Z)"
   ]
  },
  {
   "cell_type": "markdown",
   "metadata": {},
   "source": [
    "# 12.How to get the diagonal of a dot product?"
   ]
  },
  {
   "cell_type": "code",
   "execution_count": 14,
   "metadata": {},
   "outputs": [
    {
     "name": "stdout",
     "output_type": "stream",
     "text": [
      "Array A:\n",
      " [[1 9 8]\n",
      " [1 9 0]\n",
      " [6 1 9]]\n",
      "Array B:\n",
      " [[8 2 8]\n",
      " [9 2 1]\n",
      " [2 5 9]]\n",
      "\n",
      "Dot product:\n",
      " [[105  60  89]\n",
      " [ 89  20  17]\n",
      " [ 75  59 130]]\n",
      "\n",
      "The Diagonal Elements are:\n",
      " [105  20 130]\n"
     ]
    }
   ],
   "source": [
    "A = np.random.randint(0,10,(3,3))\n",
    "B= np.random.randint(0,10,(3,3))\n",
    "\n",
    "print(\"Array A:\\n\", A)\n",
    "print(\"Array B:\\n\", B)\n",
    "\n",
    "print('\\nDot product:\\n',np.dot(A,B))\n",
    "dot = np.diag(np.dot(A, B))\n",
    "print('\\nThe Diagonal Elements are:\\n', dot)"
   ]
  },
  {
   "cell_type": "markdown",
   "metadata": {},
   "source": [
    "# 13.How to find the most frequent value in an array?"
   ]
  },
  {
   "cell_type": "code",
   "execution_count": 13,
   "metadata": {},
   "outputs": [
    {
     "name": "stdout",
     "output_type": "stream",
     "text": [
      "Array: [6 9 8 8 7 9 1 8 5 5 2 0 9 4 2 4 9 1 3 0 5 9 4 9 5 3 8 3 7 5]\n",
      "Most Frequent Value: 9\n"
     ]
    }
   ],
   "source": [
    "Z = np.random.randint(0,10,30)\n",
    "print (\"Array:\", Z)\n",
    "print('Most Frequent Value:', np.bincount(Z).argmax())"
   ]
  },
  {
   "cell_type": "markdown",
   "metadata": {},
   "source": [
    "# 14.How to get the n largest values of an array"
   ]
  },
  {
   "cell_type": "code",
   "execution_count": 12,
   "metadata": {},
   "outputs": [
    {
     "name": "stdout",
     "output_type": "stream",
     "text": [
      "Enter the value of n: 665\n",
      "665 Largest values in array:  [ 0  1  2  3  4  5  6  7  8  9 10 11 12 13 14 15 16 17 18 19 20 21 22 23\n",
      " 24 25 26 27 28 29 30 31 32 33 34 35 36 37 38 39 40 41 42 43 44 45 46 47\n",
      " 48 49 50 51 52 53 54 55 56 57 58 59 60 61 62 63 64 65 66 67 68 69 70 71\n",
      " 72 73 74 75 76 77 78 79 80 81 82 83 84 85 86 87 88 89 90 91 92 93 94 95\n",
      " 96 97 98 99]\n"
     ]
    }
   ],
   "source": [
    "Z = np.arange(100)\n",
    "np.random.shuffle(Z)\n",
    "n = int(input('Enter the value of n: '))\n",
    "print(f\"{n} Largest values in array: \", Z[np.argsort(Z)[-n:]])"
   ]
  },
  {
   "cell_type": "markdown",
   "metadata": {},
   "source": [
    "# 15.How to create a record array from a regular array?"
   ]
  },
  {
   "cell_type": "code",
   "execution_count": 23,
   "metadata": {},
   "outputs": [
    {
     "name": "stdout",
     "output_type": "stream",
     "text": [
      "For a Single Array:\n",
      "\n",
      "Regular Array:\n",
      " [['Riya' '98' '99']\n",
      " ['sahil' '90' '92']\n",
      " ['anikt' '89' '90']]\n",
      "\n",
      "Record Array: [(b'Riya', 98, 99) (b'sahil', 90, 92) (b'anikt', 89, 90)]\n",
      "Type of Result: <class 'numpy.recarray'>\n"
     ]
    }
   ],
   "source": [
    "print('For a Single Array:\\n')\n",
    "x3 = np.array([['Riya',98, 99],['sahil', 90, 92],['anikt', 89, 90]])\n",
    "\n",
    "print('Regular Array:\\n', x3)\n",
    "rec = np.core.records.fromarrays(x3.T,names='name,mks1,mks2',formats='S80, i8, i8') # The arrays are now transposed'\n",
    "\n",
    "print('\\nRecord Array:', rec)\n",
    "print('Type of Result:', type(rec))"
   ]
  },
  {
   "cell_type": "code",
   "execution_count": 22,
   "metadata": {},
   "outputs": [
    {
     "name": "stdout",
     "output_type": "stream",
     "text": [
      "Regular Array 1: [1 2 3 4]\n",
      "Regular Array 2: ['R' 'I' 'Y' 'A']\n",
      "\n",
      "Record Array: [(1, 'R') (2, 'I') (3, 'Y') (4, 'A')]\n",
      "Type of Result: <class 'numpy.recarray'>\n"
     ]
    }
   ],
   "source": [
    "x1 = np.array([1,2,3,4])\n",
    "x2 = np.array(['R','I','Y','A'])\n",
    "\n",
    "print('Regular Array 1:',x1)\n",
    "print('Regular Array 2:',x2)\n",
    "\n",
    "records = np.core.records.fromarrays([x1,x2], names='Col1, Col2') # The arrays are now transposed \n",
    "\n",
    "print('\\nRecord Array:', records)\n",
    "print('Type of Result:', type(records))"
   ]
  },
  {
   "cell_type": "code",
   "execution_count": null,
   "metadata": {},
   "outputs": [],
   "source": []
  }
 ],
 "metadata": {
  "kernelspec": {
   "display_name": "Python 3",
   "language": "python",
   "name": "python3"
  },
  "language_info": {
   "codemirror_mode": {
    "name": "ipython",
    "version": 3
   },
   "file_extension": ".py",
   "mimetype": "text/x-python",
   "name": "python",
   "nbconvert_exporter": "python",
   "pygments_lexer": "ipython3",
   "version": "3.7.6"
  }
 },
 "nbformat": 4,
 "nbformat_minor": 2
}
