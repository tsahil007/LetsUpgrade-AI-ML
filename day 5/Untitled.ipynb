{
 "cells": [
  {
   "cell_type": "markdown",
   "metadata": {},
   "source": [
    "# Q:1 program for find first 20 non-even prime natural numbers."
   ]
  },
  {
   "cell_type": "code",
   "execution_count": 11,
   "metadata": {},
   "outputs": [
    {
     "name": "stdout",
     "output_type": "stream",
     "text": [
      "20 non even prime no.:\n",
      "3\n",
      "5\n",
      "7\n",
      "11\n",
      "13\n",
      "17\n",
      "19\n",
      "23\n",
      "29\n",
      "31\n",
      "37\n",
      "41\n",
      "43\n",
      "47\n",
      "53\n",
      "59\n",
      "61\n",
      "67\n",
      "71\n",
      "73\n"
     ]
    }
   ],
   "source": [
    "print(\"20 non even prime no.:\") \n",
    "for num in range(3, 75):\n",
    "    for i in range(2, num):\n",
    "        if (num % i) == 0:\n",
    "            break\n",
    "    else:\n",
    "            print(num)"
   ]
  },
  {
   "cell_type": "markdown",
   "metadata": {},
   "source": [
    "# Q:2 15 function of string ?"
   ]
  },
  {
   "cell_type": "code",
   "execution_count": 17,
   "metadata": {},
   "outputs": [
    {
     "name": "stdout",
     "output_type": "stream",
     "text": [
      "The string is  Welcome to Solution of fifth Day \n",
      "\n",
      "1. Upper:\n",
      " WELCOME TO SOLUTION OF FIFTH DAY \n",
      "\n",
      "2. Lower:\n",
      " welcome to solution of fifth day \n",
      "\n",
      "3. Right Strip:\n",
      " Welcome to Solution of fifth Day\n",
      "\n",
      "4. Left Strip:\n",
      "Welcome to Solution of fifth Day \n",
      "\n",
      "5. Strip:\n",
      "Welcome to Solution of fifth Day\n",
      "\n",
      "6. Is all Alphabets only ?:\n",
      "True\n",
      "\n",
      "7. Find location of f in string using Find function \n",
      "22\n",
      "\n",
      "8. Replacing all f with z\n",
      " Welcome to Solution oz zizth Day \n",
      "\n",
      "9. Checking if String Ends with y or not \n",
      "True\n",
      "\n",
      "10. Spliting String \n",
      "['Welcome', 'to', 'Solution', 'of', 'fifth', 'Day']\n",
      "\n",
      "11. Checking Is String startswith W? \n",
      "True\n",
      "\n",
      "12. Swaping Case:\n",
      " wELCOME TO sOLUTION OF FIFTH dAY \n",
      "\n",
      "13. Counting How many times did e appears: \n",
      "2\n",
      "\n",
      "14. Printing thee Index of letter u \n",
      "15\n",
      "\n",
      "15. isDigit:\n",
      "False\n"
     ]
    }
   ],
   "source": [
    "string1 = \" Welcome to Solution of fifth Day \"\n",
    "print(\"The string is\", string1)\n",
    "print('\\n1. Upper:')\n",
    "print(string1.upper())\n",
    "print('\\n2. Lower:')\n",
    "print(string1.lower())\n",
    "print('\\n3. Right Strip:')\n",
    "print(string1.rstrip())\n",
    "print('\\n4. Left Strip:')\n",
    "print(string1.lstrip())\n",
    "print('\\n5. Strip:')\n",
    "print(string1.strip())\n",
    "string2 = \"WelcometoSolutionoffifthDay\"\n",
    "print('\\n6. Is all Alphabets only ?:')\n",
    "print(string2.isalpha())\n",
    "print('\\n7. Find location of f in string using Find function ')\n",
    "print(string1.find('f'))\n",
    "print('\\n8. Replacing all f with z')\n",
    "print(string1.replace('f','z'))\n",
    "print('\\n9. Checking if String Ends with y or not ')\n",
    "print(string1.endswith('y '))\n",
    "print('\\n10. Spliting String ')\n",
    "print(string1.split()) \n",
    "print('\\n11. Checking Is String startswith W? ')\n",
    "print(string1.startswith(' W'))\n",
    "print('\\n12. Swaping Case:')\n",
    "print(string1.swapcase())\n",
    "print('\\n13. Counting How many times did e appears: ')\n",
    "print(string1.count('e'))\n",
    "print(\"\\n14. Printing thee Index of letter u \")\n",
    "print(string1.index('u'))\n",
    "print('\\n15. isDigit:')\n",
    "print(string1.isdigit())"
   ]
  },
  {
   "cell_type": "markdown",
   "metadata": {},
   "source": [
    "# Q:3 palindrome string?"
   ]
  },
  {
   "cell_type": "code",
   "execution_count": 2,
   "metadata": {},
   "outputs": [
    {
     "name": "stdout",
     "output_type": "stream",
     "text": [
      "Enter a string to check whether it is a palindrome or not? sahil\n",
      "Enter Second String for checking Anagram : lihas\n",
      "Entered Strings is an Anagram \n"
     ]
    }
   ],
   "source": [
    "string = input('Enter a string to check whether it is a palindrome or not? ')\n",
    "\n",
    "# Reversing the String\n",
    "rev = string[::-1]\n",
    "#rev = rev.lower()\n",
    "                    # print(rev) ----- 'ayir'\n",
    "\n",
    "if rev == string:\n",
    "    print(\"Entered String is a Palindrome \")\n",
    "\n",
    "elif rev != string:\n",
    "    string3 = input('Enter Second String for checking Anagram : ')\n",
    "    \n",
    "    # Sorting the Strings:\n",
    "    sort_string = sorted(string)\n",
    "    sort_string3 = sorted(string3)\n",
    "                    #print(sort_string) ------------ ['a','i','r','y']\n",
    "                    #print(sort_string2) ------------- [ 'a','i','r','y']\n",
    "    \n",
    "    # Converting List to String:\n",
    "    join_str = ''.join((sort_string))\n",
    "            #join_str = join_str.lower()\n",
    "    join_str3 = ''.join((sort_string3))\n",
    "            #join_str3 = join_str3.lower()\n",
    "                   #print(join_str3) #---------- 'airy'\n",
    "    \n",
    "    if join_str == join_str3:\n",
    "        print(\"Entered Strings is an Anagram \")\n",
    "        \n",
    "else:\n",
    "    print(\"Entered string is None of these \")"
   ]
  },
  {
   "cell_type": "markdown",
   "metadata": {},
   "source": [
    "# Q:4 Build a User-defined function to remove all the Special Characters from string ?"
   ]
  },
  {
   "cell_type": "code",
   "execution_count": 3,
   "metadata": {},
   "outputs": [
    {
     "name": "stdout",
     "output_type": "stream",
     "text": [
      "String is : Dr. Darshan Ingle @AI-ML Trainer\n",
      "After removing all special Characters from String\n",
      "Resultant string is:  drdarshaningleaimltrainer\n"
     ]
    }
   ],
   "source": [
    "def replace_char(y):\n",
    "    invalid_list = ['!','@',\"#\",\"$\",'%','^','&','*','(',')','+','_','?','.',':','-',\" \"]\n",
    "    for i in invalid_list : \n",
    "        y = y.replace(i,'')\n",
    "        y = y.lower()\n",
    "    print(\"After removing all special Characters from String\")\n",
    "    print(\"Resultant string is: \",y)\n",
    "    \n",
    "string_5 = 'Dr. Darshan Ingle @AI-ML Trainer'\n",
    "print(\"String is :\", string_5)\n",
    "replace_char(string_5)"
   ]
  }
 ],
 "metadata": {
  "celltoolbar": "Raw Cell Format",
  "kernelspec": {
   "display_name": "Python 3",
   "language": "python",
   "name": "python3"
  },
  "language_info": {
   "codemirror_mode": {
    "name": "ipython",
    "version": 3
   },
   "file_extension": ".py",
   "mimetype": "text/x-python",
   "name": "python",
   "nbconvert_exporter": "python",
   "pygments_lexer": "ipython3",
   "version": "3.7.6"
  }
 },
 "nbformat": 4,
 "nbformat_minor": 4
}
