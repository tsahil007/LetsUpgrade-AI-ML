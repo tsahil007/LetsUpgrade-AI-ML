{
 "cells": [
  {
   "cell_type": "markdown",
   "metadata": {},
   "source": [
    "# Ques1. Write a Program to print Company name of a given email address (\"username@compnayname.com\")"
   ]
  },
  {
   "cell_type": "code",
   "execution_count": 1,
   "metadata": {},
   "outputs": [
    {
     "name": "stdout",
     "output_type": "stream",
     "text": [
      "Enter the email address: tsahil740@gmail.com\n",
      "Company name:  gmail\n"
     ]
    }
   ],
   "source": [
    "def find_companyname(x):\n",
    "    name = x.split('@')[1].split('.')[0]\n",
    "    print(\"Company name: \",name)\n",
    "    \n",
    "email = input(\"Enter the email address: \")\n",
    "find_companyname(email)"
   ]
  },
  {
   "cell_type": "markdown",
   "metadata": {},
   "source": [
    "# Ques2. Write a program that accepts a comma-separated sequence of words as input and prints the words in a comma separated sequence after sorting them alphabetically?"
   ]
  },
  {
   "cell_type": "code",
   "execution_count": 2,
   "metadata": {},
   "outputs": [
    {
     "name": "stdout",
     "output_type": "stream",
     "text": [
      "Enter comma seperated words: cat,vougue,bat,flat,muscle\n",
      "Sorted comma seperated sequence:  bat,cat,flat,muscle,vougue\n"
     ]
    }
   ],
   "source": [
    "def sorted_words(y):\n",
    "    y = y.split(',') \n",
    "    y = sorted(y)\n",
    "    print(\"Sorted comma seperated sequence: \", ','.join(y))\n",
    "    \n",
    "words = input('Enter comma seperated words: ')\n",
    "sorted_words(words)"
   ]
  },
  {
   "cell_type": "markdown",
   "metadata": {},
   "source": [
    "# Ques4. Given a list of n-1 numbers ranging from 1 to n, your task is to find the missing number. There are no duplicates."
   ]
  },
  {
   "cell_type": "code",
   "execution_count": 10,
   "metadata": {},
   "outputs": [
    {
     "name": "stdout",
     "output_type": "stream",
     "text": [
      "Enter your list: 1 2 3 4 5 6 8 9\n",
      "Misisng value:  7\n"
     ]
    }
   ],
   "source": [
    "def mising_number(b):\n",
    "    list1 = b.split(' ')  # Spliting string values to list \n",
    "    list1 = [int(i) for i in list1]  # Converting string values to int\n",
    "    list1 = sorted(list1)  # Sort the list \n",
    "    set2 = {x for x in range(1, list1[-1])} \n",
    "            \n",
    "    set1 = set(list1)     # make set of user list \n",
    "    diff = set2 - set1      \n",
    "    diff = list(map(str, diff))     # Converting back the list of int to List of string\n",
    "    print('Misisng value: ', ' '.join(diff))    \n",
    "    \n",
    "user_list = input('Enter your list: ')\n",
    "mising_number(user_list)"
   ]
  },
  {
   "cell_type": "markdown",
   "metadata": {},
   "source": [
    "# Ques5. With a given list L, write a program to print this list L after removing all duplicate values with original order reserved."
   ]
  },
  {
   "cell_type": "code",
   "execution_count": 11,
   "metadata": {},
   "outputs": [
    {
     "name": "stdout",
     "output_type": "stream",
     "text": [
      "Enter elements of a list: 1 1 2 3 4 3 5 6 77\n",
      "After Removing all duplicate values:  1 2 3 4 5 6 77\n"
     ]
    }
   ],
   "source": [
    "def remove_duplicate(z):\n",
    "    lst = input_list.split(' ')\n",
    "    lst = [int(x) for x in lst]\n",
    "    lst = sorted(set(lst))\n",
    "    lst = list(map(str, lst))\n",
    "    print(\"After Removing all duplicate values: \",' '.join(lst))\n",
    "    \n",
    "input_list = input('Enter elements of a list: ')\n",
    "remove_duplicate(input_list)"
   ]
  }
 ],
 "metadata": {
  "kernelspec": {
   "display_name": "Python 3",
   "language": "python",
   "name": "python3"
  },
  "language_info": {
   "codemirror_mode": {
    "name": "ipython",
    "version": 3
   },
   "file_extension": ".py",
   "mimetype": "text/x-python",
   "name": "python",
   "nbconvert_exporter": "python",
   "pygments_lexer": "ipython3",
   "version": "3.7.6"
  }
 },
 "nbformat": 4,
 "nbformat_minor": 4
}
