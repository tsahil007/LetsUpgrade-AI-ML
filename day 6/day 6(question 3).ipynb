{
 "cells": [
  {
   "cell_type": "markdown",
   "metadata": {},
   "source": [
    "# Ques3. Create own jupyter notebook for Sets ?"
   ]
  },
  {
   "cell_type": "markdown",
   "metadata": {},
   "source": [
    "A set is a collection which is unordered and unindexed.\n",
    "Just like dictionary It is also written in Curly Braces { }"
   ]
  },
  {
   "cell_type": "markdown",
   "metadata": {},
   "source": [
    "# 1. Acessing Item"
   ]
  },
  {
   "cell_type": "markdown",
   "metadata": {},
   "source": [
    "As we cannot access items in a set by referring to an index, since sets are unordered the items has no index.\n",
    "We can access the element in a set by using for loop.\n",
    "Sets are unordered, so We cannot be sure in which order the items will appear."
   ]
  },
  {
   "cell_type": "code",
   "execution_count": 2,
   "metadata": {},
   "outputs": [
    {
     "name": "stdout",
     "output_type": "stream",
     "text": [
      "1\n",
      "panda\n",
      "sahil\n",
      "left\n"
     ]
    }
   ],
   "source": [
    "set = {'1','sahil','panda','left'}\n",
    "for i in set:\n",
    "    print(i)"
   ]
  },
  {
   "cell_type": "markdown",
   "metadata": {},
   "source": [
    "# 2. Change Item"
   ]
  },
  {
   "cell_type": "markdown",
   "metadata": {},
   "source": [
    "Just like Tuple , Once a set is created, you cannot change its items.\n",
    "But we can add new items."
   ]
  },
  {
   "cell_type": "markdown",
   "metadata": {},
   "source": [
    "# Methods of Set :"
   ]
  },
  {
   "cell_type": "markdown",
   "metadata": {},
   "source": [
    "len()\n",
    "remove()\n",
    "clear()\n",
    "pop()\n",
    "discard()\n",
    "add()\n",
    "update()\n",
    "copy()\n",
    "difference()\n",
    "union()\n",
    "intersection()\n",
    "symmetric difference()"
   ]
  },
  {
   "cell_type": "code",
   "execution_count": 5,
   "metadata": {},
   "outputs": [
    {
     "name": "stdout",
     "output_type": "stream",
     "text": [
      "Removing one element from set: \n",
      "After removing SET1 is:  {'panda', 'sahil', 'left'}\n"
     ]
    }
   ],
   "source": [
    "print('Removing one element from set: ')\n",
    "set.remove('1')\n",
    "print('After removing SET1 is: ',set)"
   ]
  },
  {
   "cell_type": "code",
   "execution_count": 9,
   "metadata": {},
   "outputs": [
    {
     "name": "stdout",
     "output_type": "stream",
     "text": [
      "Join two sets: SET and SET2:\n",
      "SET:  {'panda', 'sahil', 'left'}\n",
      "SET2:  {'day', 2, 4, 5, 'sahil', 'ear'}\n",
      "After joining two sets:  {'day', 2, 4, 5, 'sahil', 'ear', 'left', 'panda'}\n"
     ]
    }
   ],
   "source": [
    "set2 = {2,4,5,'ear','day','sahil'}\n",
    "print('Join two sets: SET and SET2:')\n",
    "print('SET: ',set)\n",
    "print('SET2: ',set2)\n",
    "set3 = set.union(set2)\n",
    "print('After joining two sets: ', set3)"
   ]
  }
 ],
 "metadata": {
  "kernelspec": {
   "display_name": "Python 3",
   "language": "python",
   "name": "python3"
  },
  "language_info": {
   "codemirror_mode": {
    "name": "ipython",
    "version": 3
   },
   "file_extension": ".py",
   "mimetype": "text/x-python",
   "name": "python",
   "nbconvert_exporter": "python",
   "pygments_lexer": "ipython3",
   "version": "3.7.6"
  }
 },
 "nbformat": 4,
 "nbformat_minor": 4
}
