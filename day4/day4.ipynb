{
 "cells": [
  {
   "cell_type": "markdown",
   "metadata": {},
   "source": [
    "Q:1"
   ]
  },
  {
   "cell_type": "code",
   "execution_count": 2,
   "metadata": {},
   "outputs": [
    {
     "name": "stdout",
     "output_type": "stream",
     "text": [
      "addition is 6\n",
      "subtraction is -2\n",
      "multiplication is 8\n",
      "division is 2.0\n",
      "floor division is 2\n",
      "modulus is 2\n"
     ]
    }
   ],
   "source": [
    "a=2\n",
    "b=4\n",
    "print(\"addition is\",a+b)\n",
    "print(\"subtraction is\",a-b)\n",
    "print(\"multiplication is\",a*b)\n",
    "print(\"division is\",b/a)\n",
    "print(\"floor division is\",b//a)\n",
    "print(\"modulus is\",a%b)"
   ]
  },
  {
   "cell_type": "markdown",
   "metadata": {},
   "source": [
    "Q:2"
   ]
  },
  {
   "cell_type": "markdown",
   "metadata": {},
   "source": [
    "answer: range() is a built-in function of Python. It is used when a user needs to perform an action for a specific number of times. range() in Python is just a renamed version of a function called xrange in Python(2.x). The range() function is used to generate a sequence of numbers.eg:"
   ]
  },
  {
   "cell_type": "code",
   "execution_count": 3,
   "metadata": {},
   "outputs": [
    {
     "name": "stdout",
     "output_type": "stream",
     "text": [
      "0 1 2 3 4 5 6 7 8 9 \n",
      "10 20 30 40 \n",
      "Sum of first 10 natural number : 55\n"
     ]
    }
   ],
   "source": [
    "for i in range(10): \n",
    "\tprint(i, end =\" \") \n",
    "print() \n",
    "l = [10, 20, 30, 40] \n",
    "for i in range(len(l)): \n",
    "\tprint(l[i], end =\" \") \n",
    "print() \n",
    "sum = 0\n",
    "for i in range(1, 11): \n",
    "\tsum = sum + i \n",
    "print(\"Sum of first 10 natural number :\", sum) \n"
   ]
  },
  {
   "cell_type": "markdown",
   "metadata": {},
   "source": [
    "Q:3"
   ]
  },
  {
   "cell_type": "code",
   "execution_count": 9,
   "metadata": {},
   "outputs": [
    {
     "name": "stdout",
     "output_type": "stream",
     "text": [
      "2.0\n"
     ]
    }
   ],
   "source": [
    "a=4\n",
    "b=2\n",
    "c=a-b\n",
    "if c>25:\n",
    "    print(a*b)\n",
    "else:\n",
    "    print(a/b)"
   ]
  },
  {
   "cell_type": "markdown",
   "metadata": {},
   "source": [
    "Q:4"
   ]
  },
  {
   "cell_type": "code",
   "execution_count": 12,
   "metadata": {},
   "outputs": [
    {
     "name": "stdout",
     "output_type": "stream",
     "text": [
      "square of 2 minus 2:2\n",
      "square of 4 minus 2:14\n",
      "square of 6 minus 2:34\n",
      "square of 8 minus 2:62\n",
      "square of 0 minus 2:-2\n"
     ]
    }
   ],
   "source": [
    "l=[1,2,3,4,5,6,7,8,9,0]\n",
    "for i in l:\n",
    "    if(i%2==0):\n",
    "        print(\"square of {} minus 2:\" .format(i)+str(i**2-2))\n"
   ]
  },
  {
   "cell_type": "markdown",
   "metadata": {},
   "source": [
    "Q:5"
   ]
  },
  {
   "cell_type": "code",
   "execution_count": 17,
   "metadata": {},
   "outputs": [
    {
     "name": "stdout",
     "output_type": "stream",
     "text": [
      "elements are : 45\n",
      "elements are : 21\n",
      "elements are : 56\n",
      "elements are : 43\n",
      "elements are : 59\n"
     ]
    }
   ],
   "source": [
    "l=[45,21,56,43,3,6,6,7,6,59]\n",
    "for i in l:\n",
    "    if(i/2>7):\n",
    "        print(\"elements are :\",i)"
   ]
  }
 ],
 "metadata": {
  "kernelspec": {
   "display_name": "Python 3",
   "language": "python",
   "name": "python3"
  },
  "language_info": {
   "codemirror_mode": {
    "name": "ipython",
    "version": 3
   },
   "file_extension": ".py",
   "mimetype": "text/x-python",
   "name": "python",
   "nbconvert_exporter": "python",
   "pygments_lexer": "ipython3",
   "version": "3.7.6"
  }
 },
 "nbformat": 4,
 "nbformat_minor": 4
}
